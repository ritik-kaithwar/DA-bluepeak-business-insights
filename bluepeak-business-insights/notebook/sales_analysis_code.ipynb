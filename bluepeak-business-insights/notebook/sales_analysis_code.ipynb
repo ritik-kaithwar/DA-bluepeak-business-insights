{
  "nbformat": 4,
  "nbformat_minor": 0,
  "metadata": {
    "colab": {
      "provenance": [],
      "collapsed_sections": [
        "lMcwQSUZG56a",
        "IAX0FcFYGIKY",
        "pYyORk7AHVwA"
      ]
    },
    "kernelspec": {
      "name": "python3",
      "display_name": "Python 3"
    },
    "language_info": {
      "name": "python"
    }
  },
  "cells": [
    {
      "cell_type": "markdown",
      "source": [
        "# **Data Exploration**"
      ],
      "metadata": {
        "id": "lMcwQSUZG56a"
      }
    },
    {
      "cell_type": "code",
      "execution_count": null,
      "metadata": {
        "id": "og8w48UtufsL"
      },
      "outputs": [],
      "source": [
        "# Importing Libraries\n",
        "\n",
        "import pandas as pd\n",
        "import numpy as np\n",
        "import matplotlib.pyplot as plt\n",
        "import seaborn as sns"
      ]
    },
    {
      "cell_type": "code",
      "source": [
        "sheets=pd.read_excel('/content/Regional Sales Dataset.xlsx', sheet_name=None)"
      ],
      "metadata": {
        "id": "rW083CYyx7_y"
      },
      "execution_count": null,
      "outputs": []
    },
    {
      "cell_type": "code",
      "source": [
        "sheets"
      ],
      "metadata": {
        "id": "frX5vtm7yXuT"
      },
      "execution_count": null,
      "outputs": []
    },
    {
      "cell_type": "code",
      "source": [
        "# Assigning dataframes to each sheet\n",
        "\n",
        "df_sales=sheets['Sales Orders']\n",
        "df_customers=sheets['Customers']\n",
        "df_products=sheets['Products']\n",
        "df_regions=sheets['Regions']\n",
        "df_state_reg=sheets['State Regions']\n",
        "df_budget=sheets['2017 Budgets']"
      ],
      "metadata": {
        "id": "bqoVBrzKyteA"
      },
      "execution_count": null,
      "outputs": []
    },
    {
      "cell_type": "code",
      "source": [
        "dfs = {\n",
        "    \"Sales\": df_sales,\n",
        "    \"Customers\": df_customers,\n",
        "    \"Products\": df_products,\n",
        "    \"Regions\": df_regions,\n",
        "    \"State_Region\": df_state_reg,\n",
        "    \"Budget\": df_budget\n",
        "}\n",
        "\n",
        "for name, df2 in dfs.items():\n",
        "    print(f\"\\n Overview of {name}:\\n\")\n",
        "    print(df2.head(5))\n",
        "    print(f\"\\nShape of {name}: {df2.shape}\\n{'-'*60}\")"
      ],
      "metadata": {
        "id": "VzK8Kvfl1Gyh"
      },
      "execution_count": null,
      "outputs": []
    },
    {
      "cell_type": "code",
      "source": [
        "# Adjusting Header\n",
        "\n",
        "header=df_state_reg.iloc[0]\n",
        "df_state_reg.columns=header\n",
        "df_state_reg=df_state_reg[1:].reset_index(drop=True)\n",
        "\n",
        "df_state_reg.head(5)"
      ],
      "metadata": {
        "id": "VT8h2BI-2nFC"
      },
      "execution_count": null,
      "outputs": []
    },
    {
      "cell_type": "code",
      "source": [
        "# Checking for null values\n",
        "\n",
        "for name, df2 in dfs.items():\n",
        "    print(f\"\\n Null values in {name}:\\n\")\n",
        "    print(f\"{df2.isnull().sum()}\\n{'-'*60}\")"
      ],
      "metadata": {
        "id": "wn_7aama31Rp"
      },
      "execution_count": null,
      "outputs": []
    },
    {
      "cell_type": "code",
      "source": [
        "# Merging Sheets\n",
        "\n",
        "merge_plan = [\n",
        "    (df_customers, \"Customer Name Index\", \"Customer Index\"),\n",
        "    (df_products, \"Product Description Index\", \"Index\"),\n",
        "    (df_regions, \"Delivery Region Index\", \"id\")\n",
        "]\n",
        "\n",
        "df = df_sales.copy()\n",
        "\n",
        "for df2, left_col, right_col in merge_plan:\n",
        "    df = df.merge(\n",
        "        df2,\n",
        "        how=\"left\",\n",
        "        left_on=left_col,\n",
        "        right_on=right_col\n",
        "    )"
      ],
      "metadata": {
        "id": "014or710-MYW"
      },
      "execution_count": null,
      "outputs": []
    },
    {
      "cell_type": "code",
      "source": [
        "print(df.columns.values)"
      ],
      "metadata": {
        "id": "8QXk0_TPKNZE"
      },
      "execution_count": null,
      "outputs": []
    },
    {
      "cell_type": "code",
      "source": [
        "df.info()"
      ],
      "metadata": {
        "id": "FP-z_KGY-RCD"
      },
      "execution_count": null,
      "outputs": []
    },
    {
      "cell_type": "code",
      "source": [
        "# Merging the df_state_reg for selected columns\n",
        "df=df.merge(\n",
        "    df_state_reg[['State Code','Region']],\n",
        "    how='left',\n",
        "    left_on='state_code',\n",
        "    right_on='State Code'\n",
        ")"
      ],
      "metadata": {
        "id": "w0WoEDlK-4b7"
      },
      "execution_count": null,
      "outputs": []
    },
    {
      "cell_type": "code",
      "source": [
        "# Merging the budget data in dataframe\n",
        "df=df.merge(\n",
        "    df_budget,\n",
        "    how='left',\n",
        "    left_on='Product Name',\n",
        "    right_on='Product Name'\n",
        ")"
      ],
      "metadata": {
        "id": "axbqit8JHjhD"
      },
      "execution_count": null,
      "outputs": []
    },
    {
      "cell_type": "code",
      "source": [
        "print(df.columns.values)"
      ],
      "metadata": {
        "id": "SdugpoPkK9-b"
      },
      "execution_count": null,
      "outputs": []
    },
    {
      "cell_type": "code",
      "source": [
        "df.head(5)"
      ],
      "metadata": {
        "id": "q5UCTy5iAdnS"
      },
      "execution_count": null,
      "outputs": []
    },
    {
      "cell_type": "code",
      "source": [
        "df.to_csv('file.csv')"
      ],
      "metadata": {
        "id": "xylsFI0GAlgS"
      },
      "execution_count": null,
      "outputs": []
    },
    {
      "cell_type": "code",
      "source": [
        "# Dropping Duplicate Columns\n",
        "\n",
        "drop_cols=['Customer Index','Index','id','State Code']\n",
        "df=df.drop(columns=drop_cols)\n",
        "\n",
        "print(df.head(5))"
      ],
      "metadata": {
        "id": "T1NtXxz2Byn6"
      },
      "execution_count": null,
      "outputs": []
    },
    {
      "cell_type": "code",
      "source": [
        "# Converting column names to lowercase for consistency and easy accessibility\n",
        "\n",
        "df.columns = df.columns.str.lower()"
      ],
      "metadata": {
        "id": "2xwQ-FLXDfA7"
      },
      "execution_count": null,
      "outputs": []
    },
    {
      "cell_type": "code",
      "source": [
        "print(df.columns.values)"
      ],
      "metadata": {
        "id": "9Sx0WdEnDsP8"
      },
      "execution_count": null,
      "outputs": []
    },
    {
      "cell_type": "code",
      "source": [
        "print(df.head(5))"
      ],
      "metadata": {
        "id": "W8uKkp4_IzIF"
      },
      "execution_count": null,
      "outputs": []
    },
    {
      "cell_type": "code",
      "source": [
        "print(df.columns.values)"
      ],
      "metadata": {
        "id": "NTeGqAZXcErm"
      },
      "execution_count": null,
      "outputs": []
    },
    {
      "cell_type": "code",
      "source": [
        "# Finalising the dataframe by keeping the necessary columns\n",
        "\n",
        "keep_cols=['ordernumber','orderdate','customer names','channel','product name','order quantity','unit price',\n",
        "           'line total','total unit cost','state_code','county','state','region','latitude','longitude','2017 budgets']\n",
        "\n",
        "df=df[keep_cols]"
      ],
      "metadata": {
        "id": "wZv2P899b1MS"
      },
      "execution_count": null,
      "outputs": []
    },
    {
      "cell_type": "code",
      "source": [
        "df.head(5)"
      ],
      "metadata": {
        "id": "92QEwsO6dRO2"
      },
      "execution_count": null,
      "outputs": []
    },
    {
      "cell_type": "code",
      "source": [
        "df.columns.values"
      ],
      "metadata": {
        "id": "OXezvXrJe6Sg"
      },
      "execution_count": null,
      "outputs": []
    },
    {
      "cell_type": "code",
      "source": [
        "# Renaming the columns\n",
        "df = df.rename(columns={\n",
        "                    'ordernumber': 'order_number',\n",
        "                    'orderdate': 'order_date',\n",
        "                    'customer names': 'customer_name',\n",
        "                    'product name': 'product_name',\n",
        "                    'order quantity': 'order_quantity',\n",
        "                    'unit price': 'unit_price',\n",
        "                    'line total': 'revenue',\n",
        "                    'total unit cost': 'cost',\n",
        "                    'state_code': 'state',\n",
        "                    'state': 'state_name',\n",
        "                    'latitude': 'lat',\n",
        "                    'longitude': 'lon',\n",
        "                    '2017 budgets': 'budget'\n",
        "})"
      ],
      "metadata": {
        "id": "DP0CXVGZfpOX"
      },
      "execution_count": null,
      "outputs": []
    },
    {
      "cell_type": "code",
      "source": [
        "df.head(1)"
      ],
      "metadata": {
        "id": "G8wuZ0HFgF_-"
      },
      "execution_count": null,
      "outputs": []
    },
    {
      "cell_type": "code",
      "source": [
        "# Providing Nan for the budget which is not in the year 2017\n",
        "\n",
        "df.loc[df['order_date'].dt.year != 2017, 'budget'] = pd.NA\n",
        "\n",
        "df[['order_date','product_name','revenue','budget']].head(5)"
      ],
      "metadata": {
        "id": "zZRKqqpJgZKy"
      },
      "execution_count": null,
      "outputs": []
    },
    {
      "cell_type": "markdown",
      "source": [
        "# **Feature Engineering**"
      ],
      "metadata": {
        "id": "IAX0FcFYGIKY"
      }
    },
    {
      "cell_type": "code",
      "source": [
        "df['cogs']=df['order_quantity']*df['cost']\n",
        "df['profit']=df['revenue']-df['cogs']\n",
        "df['profit_margin']=df['profit']/df['revenue']*100\n",
        "df.head(5)"
      ],
      "metadata": {
        "id": "NLdanRMdGTxo"
      },
      "execution_count": null,
      "outputs": []
    },
    {
      "cell_type": "markdown",
      "source": [
        "# **EDA**"
      ],
      "metadata": {
        "id": "pYyORk7AHVwA"
      }
    },
    {
      "cell_type": "code",
      "source": [
        "# Plotting Monthly Rental Trend\n",
        "\n",
        "df['order_month']=df['order_date'].dt.to_period('M')\n",
        "monthly_sales=df.groupby('order_month')['revenue'].sum()\n",
        "plt.figure(figsize=(15,4))\n",
        "monthly_sales.plot(marker='o', color='navy')\n",
        "from matplotlib.ticker import FuncFormatter\n",
        "formatter=FuncFormatter(lambda x, pos:f'{x/1e6:1f}M')\n",
        "plt.gca().yaxis.set_major_formatter(formatter)\n",
        "plt.title('Monthly Sale Trend')\n",
        "plt.xlabel('Month')\n",
        "plt.ylabel('Revenue (In Millions)')\n",
        "plt.xticks(rotation=45)\n",
        "plt.tight_layout()\n",
        "plt.show()"
      ],
      "metadata": {
        "id": "JYIFELQeHUwo"
      },
      "execution_count": null,
      "outputs": []
    },
    {
      "cell_type": "code",
      "source": [
        "# Ensure datetime\n",
        "df[\"order_date\"] = pd.to_datetime(df[\"order_date\"])\n",
        "\n",
        "# Create df_new without 2018 data\n",
        "df_new = df[df[\"order_date\"].dt.year != 2018].copy()\n",
        "\n",
        "# -------------------------------\n",
        "# 1. Monthly Sales Trend (time series across years)\n",
        "# -------------------------------\n",
        "df_new[\"Month\"] = df_new[\"order_date\"].dt.to_period(\"M\")\n",
        "monthly_sales = df_new.groupby(\"Month\")[\"revenue\"].sum().reset_index()\n",
        "monthly_sales[\"Month\"] = monthly_sales[\"Month\"].dt.to_timestamp()\n",
        "\n",
        "# Calculate percentiles\n",
        "p25 = monthly_sales[\"revenue\"].quantile(0.25)\n",
        "p50 = monthly_sales[\"revenue\"].quantile(0.50)\n",
        "p75 = monthly_sales[\"revenue\"].quantile(0.75)\n",
        "\n",
        "plt.figure(figsize=(12,6))\n",
        "plt.plot(monthly_sales[\"Month\"], monthly_sales[\"revenue\"], marker=\"o\", linewidth=2, color=\"teal\")\n",
        "\n",
        "# Add percentile lines\n",
        "plt.axhline(p25, color=\"red\", linestyle=\"--\", linewidth=1, label=\"25th Percentile\")\n",
        "plt.axhline(p50, color=\"orange\", linestyle=\"--\", linewidth=1, label=\"50th Percentile (Median)\")\n",
        "plt.axhline(p75, color=\"green\", linestyle=\"--\", linewidth=1, label=\"75th Percentile\")\n",
        "\n",
        "plt.title(\"Monthly Sales Trend\", fontsize=16)\n",
        "plt.xlabel(\"Month\", fontsize=12)\n",
        "plt.ylabel(\"Revenue\", fontsize=12)\n",
        "plt.legend()\n",
        "plt.grid(True, alpha=0.3)\n",
        "plt.xticks(rotation=45)\n",
        "plt.tight_layout()\n",
        "plt.show()"
      ],
      "metadata": {
        "id": "VRBAr6U6byLt"
      },
      "execution_count": null,
      "outputs": []
    },
    {
      "cell_type": "code",
      "source": [
        "# Aggregated Monthly Sales across years\n",
        "\n",
        "# Ensure datetime\n",
        "df[\"order_date\"] = pd.to_datetime(df[\"order_date\"])\n",
        "\n",
        "# Create df_new without 2018 data\n",
        "df_new = df[df[\"order_date\"].dt.year != 2018].copy()\n",
        "\n",
        "df_new['MonthNum']=df_new['order_date'].dt.month\n",
        "df_new['MonthName']=df_new['order_date'].dt.strftime('%b')\n",
        "\n",
        "monthly_sales_seasonal = df_new.groupby([\"MonthNum\", \"MonthName\"])[\"revenue\"].sum().reset_index()\n",
        "monthly_sales_seasonal = monthly_sales_seasonal.sort_values(\"MonthNum\")\n",
        "\n",
        "# Calculate percentiles\n",
        "p25_seasonal = monthly_sales_seasonal[\"revenue\"].quantile(0.25)\n",
        "p50_seasonal = monthly_sales_seasonal[\"revenue\"].quantile(0.50)\n",
        "p75_seasonal = monthly_sales_seasonal[\"revenue\"].quantile(0.75)\n",
        "\n",
        "plt.figure(figsize=(10,6))\n",
        "plt.plot(monthly_sales_seasonal[\"MonthName\"], monthly_sales_seasonal[\"revenue\"],\n",
        "         marker=\"o\", linewidth=2, color=\"teal\")\n",
        "\n",
        "# Add percentile lines\n",
        "plt.axhline(p25_seasonal, color=\"red\", linestyle=\"--\", linewidth=1, label=\"25th Percentile\")\n",
        "plt.axhline(p50_seasonal, color=\"orange\", linestyle=\"--\", linewidth=1, label=\"50th Percentile (Median)\")\n",
        "plt.axhline(p75_seasonal, color=\"green\", linestyle=\"--\", linewidth=1, label=\"75th Percentile\")\n",
        "\n",
        "plt.title(\"Overall Monthly Sales Trend\", fontsize=16)\n",
        "plt.xlabel(\"Month\", fontsize=12)\n",
        "plt.ylabel(\"Revenue\", fontsize=12)\n",
        "plt.legend()\n",
        "plt.grid(True, alpha=0.3)\n",
        "plt.tight_layout()\n",
        "plt.show()"
      ],
      "metadata": {
        "id": "VN10ULEAcAMz"
      },
      "execution_count": null,
      "outputs": []
    },
    {
      "cell_type": "code",
      "source": [
        "# PLotting YoY Comparison trend across years and months\n",
        "\n",
        "# Extract Year and Month\n",
        "df_new[\"Year\"] = df_new[\"order_date\"].dt.year\n",
        "df_new[\"MonthNum\"] = df_new[\"order_date\"].dt.month\n",
        "df_new[\"MonthName\"] = df_new[\"order_date\"].dt.strftime(\"%b\")\n",
        "\n",
        "# Group by Year-Month\n",
        "monthly_sales = (\n",
        "    df_new.groupby([\"Year\", \"MonthNum\", \"MonthName\"])[\"revenue\"]\n",
        "    .sum()\n",
        "    .reset_index()\n",
        ")\n",
        "\n",
        "# Pivot for YoY comparison\n",
        "monthly_pivot = monthly_sales.pivot(index=\"MonthNum\", columns=\"Year\", values=\"revenue\")\n",
        "\n",
        "# Add month names for x-axis\n",
        "monthly_pivot[\"MonthName\"] = monthly_pivot.index.map(\n",
        "    lambda x: pd.to_datetime(str(x), format=\"%m\").strftime(\"%b\")\n",
        ")\n",
        "\n",
        "# Plot\n",
        "plt.figure(figsize=(12,6))\n",
        "for year in monthly_pivot.columns[:-1]:  # exclude \"MonthName\"\n",
        "    plt.plot(\n",
        "        monthly_pivot[\"MonthName\"],\n",
        "        monthly_pivot[year],\n",
        "        marker=\"o\",\n",
        "        linewidth=2,\n",
        "        label=str(year)\n",
        "    )\n",
        "\n",
        "plt.title(\"Monthly Sales Trend (YoY Comparison)\", fontsize=16)\n",
        "plt.xlabel(\"Month\", fontsize=12)\n",
        "plt.ylabel(\"Revenue\", fontsize=12)\n",
        "plt.legend(title=\"Year\")\n",
        "plt.grid(True, alpha=0.3)\n",
        "plt.tight_layout()\n",
        "plt.show()"
      ],
      "metadata": {
        "id": "ELzEOiShc1I0"
      },
      "execution_count": null,
      "outputs": []
    },
    {
      "cell_type": "code",
      "source": [
        "df_new.head(5)"
      ],
      "metadata": {
        "id": "6KZi7zJlefYt"
      },
      "execution_count": null,
      "outputs": []
    },
    {
      "cell_type": "code",
      "source": [
        "# Top 10 products by revenue\n",
        "top_products = (\n",
        "    df_new.groupby(\"product_name\")[\"revenue\"]\n",
        "    .sum()\n",
        "    .reset_index()\n",
        "    .sort_values(by=\"revenue\", ascending=False)\n",
        "    .head(10)\n",
        ")\n",
        "\n",
        "# Colors: green for top, red for bottom, teal for others\n",
        "colors = [\"green\" if i == 0 else \"red\" if i == len(top_products)-1 else \"teal\"\n",
        "          for i in range(len(top_products))]\n",
        "\n",
        "plt.figure(figsize=(10,6))\n",
        "bars = plt.barh(top_products[\"product_name\"], top_products[\"revenue\"], color=colors)\n",
        "plt.gca().invert_yaxis()  # Highest at top\n",
        "\n",
        "# Add labels to bars\n",
        "for bar in bars:\n",
        "    width = bar.get_width()\n",
        "    plt.text(width + (0.01 * top_products[\"revenue\"].max()),  # position to the right\n",
        "             bar.get_y() + bar.get_height()/2,\n",
        "             f\"{width:,.0f}\",\n",
        "             va='center', fontsize=10)\n",
        "\n",
        "# Titles and labels\n",
        "plt.title(\"Top 10 Products by Revenue\", fontsize=16)\n",
        "plt.xlabel(\"Revenue\", fontsize=12)\n",
        "plt.ylabel(\"Product\", fontsize=12)\n",
        "plt.tight_layout()\n",
        "plt.show()"
      ],
      "metadata": {
        "id": "8W4bbnOwts1F"
      },
      "execution_count": null,
      "outputs": []
    },
    {
      "cell_type": "code",
      "source": [
        "# Sales Distribution by Channel\n",
        "channel_sales = (\n",
        "    df_new.groupby(\"channel\")[\"revenue\"]\n",
        "    .sum()\n",
        "    .reset_index()\n",
        "    .sort_values(by=\"revenue\", ascending=False)\n",
        ")\n",
        "\n",
        "# Plot pie chart\n",
        "plt.figure(figsize=(6,6))\n",
        "plt.pie(channel_sales[\"revenue\"],\n",
        "        labels=channel_sales[\"channel\"],\n",
        "        autopct='%1.1f%%',\n",
        "        startangle=140,\n",
        "        colors=plt.cm.Set3.colors)\n",
        "\n",
        "plt.title(\"Sales Distribution by Channel\", fontsize=16)\n",
        "plt.show()"
      ],
      "metadata": {
        "id": "_-N_aNsB0iT9"
      },
      "execution_count": null,
      "outputs": []
    },
    {
      "cell_type": "code",
      "source": [
        "# Average Order Value Distribution\n",
        "\n",
        "aov=df_new.groupby('order_number')['revenue'].sum()\n",
        "\n",
        "plt.figure(figsize=(10,6))\n",
        "plt.hist(aov,bins=50,color='teal',edgecolor='black')\n",
        "plt.title('Average Order Value Distribution')\n",
        "plt.xlabel('AOV')\n",
        "plt.ylabel('Frequency')\n",
        "\n",
        "plt.tight_layout()\n",
        "plt.show()"
      ],
      "metadata": {
        "id": "dj6lEtC88R-p"
      },
      "execution_count": null,
      "outputs": []
    },
    {
      "cell_type": "code",
      "source": [
        "# Unit Price Distribution Per Product (By Median)\n",
        "\n",
        "# Compute median (or mean) unit price to use for sorting\n",
        "product_order = (\n",
        "    df_new.groupby(\"product_name\")[\"unit_price\"]\n",
        "    .median()\n",
        "    .sort_values(ascending=False)\n",
        "    .index\n",
        ")\n",
        "\n",
        "# Plot boxplot sorted by unit price\n",
        "plt.figure(figsize=(12,6))\n",
        "sns.boxplot(\n",
        "    data=df_new,\n",
        "    x=\"product_name\",\n",
        "    y=\"unit_price\",\n",
        "    order=product_order,\n",
        "    palette=\"Set2\"\n",
        ")\n",
        "\n",
        "plt.xticks(rotation=45, ha=\"right\")\n",
        "plt.title(\"Unit Price Distribution per Product (Sorted by Median Unit Price)\", fontsize=16)\n",
        "plt.xlabel(\"Product\", fontsize=12)\n",
        "plt.ylabel(\"Unit Price\", fontsize=12)\n",
        "plt.tight_layout()\n",
        "plt.show()"
      ],
      "metadata": {
        "id": "2h0WtmPOAO1Y"
      },
      "execution_count": null,
      "outputs": []
    },
    {
      "cell_type": "code",
      "source": [
        "# Top 10 States By Revenue And Order Count\n",
        "\n",
        "state_stats = (\n",
        "    df.groupby(\"state_name\")\n",
        "    .agg(\n",
        "        revenue=(\"revenue\", \"sum\"),\n",
        "        order_count=(\"order_number\", \"nunique\")  # unique orders\n",
        "    )\n",
        "    .reset_index()\n",
        ")\n",
        "\n",
        "# --- Get top 10 states by revenue ---\n",
        "top_states = state_stats.nlargest(10, \"revenue\")\n",
        "\n",
        "# --- Plotting side-by-side bar charts ---\n",
        "fig, axes = plt.subplots(1, 2, figsize=(16,6))\n",
        "\n",
        "# Revenue plot\n",
        "sns.barplot(\n",
        "    data=top_states.sort_values(\"revenue\", ascending=False),\n",
        "    x=\"revenue\", y=\"state_name\", ax=axes[0], palette=\"Blues_r\"\n",
        ")\n",
        "axes[0].set_title(\"Top 10 States by Revenue\", fontsize=14)\n",
        "axes[0].set_xlabel(\"Revenue\")\n",
        "axes[0].set_ylabel(\"State\")\n",
        "\n",
        "# Order count plot\n",
        "sns.barplot(\n",
        "    data=top_states.sort_values(\"order_count\", ascending=False),\n",
        "    x=\"order_count\", y=\"state_name\", ax=axes[1], palette=\"Greens_r\"\n",
        ")\n",
        "axes[1].set_title(\"Top 10 States by Order Count\", fontsize=14)\n",
        "axes[1].set_xlabel(\"Order Count\")\n",
        "axes[1].set_ylabel(\"\")\n",
        "\n",
        "plt.tight_layout()\n",
        "plt.show()"
      ],
      "metadata": {
        "id": "HhVNaOmkCcYC"
      },
      "execution_count": null,
      "outputs": []
    },
    {
      "cell_type": "code",
      "source": [
        "# Average Profit Margin By Channel\n",
        "\n",
        "plt.figure(figsize=(6,4))\n",
        "ax = sns.barplot(\n",
        "    data=df,\n",
        "    x=\"channel\",\n",
        "    y=\"profit_margin\",\n",
        "    estimator=\"mean\",\n",
        "    palette=\"Reds_r\"\n",
        ")\n",
        "\n",
        "# Add labels (no extra % scaling)\n",
        "for p in ax.patches:\n",
        "    value = p.get_height()\n",
        "    ax.annotate(f\"{value:.2f}%\",   # just add % sign\n",
        "                (p.get_x() + p.get_width() / 2., value),\n",
        "                ha='center', va='bottom',\n",
        "                fontsize=9, color='black', xytext=(0,3),\n",
        "                textcoords='offset points')\n",
        "\n",
        "ax.set_title(\"Average Profit Margin by Channel\", fontsize=12)\n",
        "ax.set_xlabel(\"Channel\", fontsize=10)\n",
        "ax.set_ylabel(\"Avg Profit Margin (%)\", fontsize=10)\n",
        "plt.xticks(rotation=30, ha=\"right\", fontsize=9)\n",
        "plt.yticks(fontsize=9)\n",
        "plt.tight_layout()\n",
        "plt.show()"
      ],
      "metadata": {
        "id": "WOZtbDiuF97B"
      },
      "execution_count": null,
      "outputs": []
    },
    {
      "cell_type": "code",
      "source": [
        "# Customer Segmentation: Revenue vs Profit Margin\n",
        "\n",
        "customer_stats = (\n",
        "    df.groupby(\"customer_name\")\n",
        "    .agg(\n",
        "        revenue=(\"revenue\", \"sum\"),\n",
        "        profit_margin=(\"profit_margin\", \"mean\")\n",
        "    )\n",
        "    .reset_index()\n",
        ")\n",
        "\n",
        "plt.figure(figsize=(8,6))\n",
        "sns.scatterplot(\n",
        "    data=customer_stats,\n",
        "    x=\"revenue\",\n",
        "    y=\"profit_margin\",\n",
        "    hue=\"revenue\",  # optional: color by revenue\n",
        "    palette=\"viridis\",\n",
        "    size=\"revenue\",\n",
        "    sizes=(20, 200),\n",
        "    alpha=0.7,\n",
        "    legend=False\n",
        ")\n",
        "plt.title(\"Customer Segmentation: Revenue vs Profit Margin\", fontsize=14)\n",
        "plt.xlabel(\"Revenue\")\n",
        "plt.ylabel(\"Profit Margin\")\n",
        "plt.tight_layout()\n",
        "plt.show()"
      ],
      "metadata": {
        "id": "JiYJVZKiGkWK"
      },
      "execution_count": null,
      "outputs": []
    },
    {
      "cell_type": "code",
      "source": [
        "# Correlation Heatmap\n",
        "\n",
        "plt.figure(figsize=(10,6))\n",
        "corr = df[[\"order_quantity\",\"unit_price\",\"revenue\",\"cogs\",\"profit\",\"profit_margin\"]].corr()\n",
        "\n",
        "sns.heatmap(\n",
        "    corr,\n",
        "    annot=True,\n",
        "    fmt=\".2f\",\n",
        "    cmap=\"coolwarm\",\n",
        "    center=0\n",
        ")\n",
        "plt.title(\"Correlation Heatmap\", fontsize=14)\n",
        "plt.tight_layout()\n",
        "plt.show()"
      ],
      "metadata": {
        "id": "vJdHPSusGykK"
      },
      "execution_count": null,
      "outputs": []
    },
    {
      "cell_type": "code",
      "source": [
        "df.head(5)"
      ],
      "metadata": {
        "id": "dOVFbIoUzK6k"
      },
      "execution_count": null,
      "outputs": []
    },
    {
      "cell_type": "code",
      "source": [
        "df.to_csv('final_df.csv')"
      ],
      "metadata": {
        "id": "30vcvl1hzwur"
      },
      "execution_count": null,
      "outputs": []
    },
    {
      "cell_type": "code",
      "source": [
        "# Defining the fact and dimension tables for data model\n",
        "\n",
        "import os\n",
        "import pandas as pd\n",
        "from pandas.api.types import is_datetime64_any_dtype as is_datetime\n",
        "\n",
        "# ---------- Helpers\n",
        "def ensure_dir(path):\n",
        "    d = os.path.dirname(path)\n",
        "    if d and not os.path.exists(d):\n",
        "        os.makedirs(d, exist_ok=True)\n",
        "\n",
        "def make_dim_from_series(series: pd.Series, key_col: str, val_col: str) -> pd.DataFrame:\n",
        "    \"\"\"Create a dimension with Unknown=0 and a stable surrogate key using factorize.\"\"\"\n",
        "    s = series.astype(\"string\")\n",
        "    uniques = pd.Series(pd.unique(s.dropna())).sort_values(ignore_index=True)\n",
        "    dim_rest = pd.DataFrame({val_col: uniques})\n",
        "    dim_rest.insert(0, key_col, range(1, len(dim_rest) + 1))\n",
        "    # Unknown row\n",
        "    dim_unknown = pd.DataFrame({key_col: [0], val_col: [\"Unknown\"]})\n",
        "    dim = pd.concat([dim_unknown, dim_rest], ignore_index=True)\n",
        "    return dim\n",
        "\n",
        "def map_key(series: pd.Series, dim: pd.DataFrame, key_col: str, val_col: str) -> pd.Series:\n",
        "    \"\"\"Map natural value to surrogate key; Unknown→0; return Int64.\"\"\"\n",
        "    m = dict(zip(dim[val_col], dim[key_col]))\n",
        "    return series.astype(\"string\").map(m).fillna(0).astype(\"Int64\")\n",
        "\n",
        "# ---------- Prep\n",
        "df = df.copy()\n",
        "\n",
        "# Make sure order_date is datetime\n",
        "if not is_datetime(df[\"order_date\"]):\n",
        "    df[\"order_date\"] = pd.to_datetime(df[\"order_date\"], errors=\"coerce\")\n",
        "\n",
        "# Base fact columns (keep order_date)\n",
        "fact_sales = df[[\n",
        "    \"order_number\", \"order_date\", \"customer_name\", \"product_name\", \"state\",\n",
        "    \"order_quantity\", \"unit_price\", \"revenue\", \"cost\", \"cogs\", \"profit\",\n",
        "    \"profit_margin\", \"budget\"\n",
        "]].copy()\n",
        "\n",
        "# ---------- Dim Customer\n",
        "dim_customer = make_dim_from_series(df[\"customer_name\"], \"CustomerID\", \"CustomerName\")\n",
        "fact_sales[\"CustomerID\"] = map_key(fact_sales[\"customer_name\"], dim_customer, \"CustomerID\", \"CustomerName\")\n",
        "fact_sales.drop(columns=[\"customer_name\"], inplace=True)\n",
        "\n",
        "# ---------- Dim Product\n",
        "dim_product = make_dim_from_series(df[\"product_name\"], \"ProductID\", \"ProductName\")\n",
        "fact_sales[\"ProductID\"] = map_key(fact_sales[\"product_name\"], dim_product, \"ProductID\", \"ProductName\")\n",
        "fact_sales.drop(columns=[\"product_name\"], inplace=True)\n",
        "\n",
        "# ---------- Dim Geography\n",
        "geo_cols = [\"state\", \"state_name\", \"county\", \"region\", \"lat\", \"lon\"]\n",
        "missing_geo = [c for c in geo_cols if c not in df.columns]\n",
        "for c in missing_geo:\n",
        "    df[c] = pd.NA\n",
        "\n",
        "geo_natural = df[geo_cols].astype({\n",
        "    \"state\":\"string\",\"state_name\":\"string\",\"county\":\"string\",\"region\":\"string\"\n",
        "}).copy()\n",
        "\n",
        "dim_geo_unique = geo_natural.drop_duplicates(ignore_index=True)\n",
        "dim_geo_unique.insert(0, \"GeoID\", range(1, len(dim_geo_unique) + 1))\n",
        "\n",
        "dim_geo_unknown = pd.DataFrame(\n",
        "    {\"GeoID\":[0], \"state\":[\"Unknown\"], \"state_name\":[\"Unknown\"], \"county\":[\"Unknown\"],\n",
        "     \"region\":[\"Unknown\"], \"lat\":[pd.NA], \"lon\":[pd.NA]}\n",
        ")\n",
        "dim_geo = pd.concat([dim_geo_unknown, dim_geo_unique], ignore_index=True)\n",
        "\n",
        "# Map state → GeoID\n",
        "state_to_geoid = (\n",
        "    dim_geo.dropna(subset=[\"state\"])\n",
        "           .drop_duplicates(subset=[\"state\"])[[\"state\",\"GeoID\"]]\n",
        "           .set_index(\"state\")[\"GeoID\"]\n",
        "           .to_dict()\n",
        ")\n",
        "fact_sales[\"GeoID\"] = fact_sales[\"state\"].astype(\"string\").map(state_to_geoid).fillna(0).astype(\"Int64\")\n",
        "fact_sales.drop(columns=[\"state\"], inplace=True)\n",
        "\n",
        "# ---------- Clean types\n",
        "fact_sales[\"CustomerID\"] = fact_sales[\"CustomerID\"].astype(\"Int64\")\n",
        "fact_sales[\"ProductID\"]  = fact_sales[\"ProductID\"].astype(\"Int64\")\n",
        "fact_sales[\"GeoID\"]      = fact_sales[\"GeoID\"].astype(\"Int64\")\n",
        "\n",
        "dim_customer[\"CustomerID\"] = dim_customer[\"CustomerID\"].astype(\"Int64\")\n",
        "dim_product[\"ProductID\"]   = dim_product[\"ProductID\"].astype(\"Int64\")\n",
        "dim_geo[\"GeoID\"]           = dim_geo[\"GeoID\"].astype(\"Int64\")\n",
        "\n",
        "# ---------- Save to CSV\n",
        "outdir = \"./exports\"  # change if you like\n",
        "ensure_dir(f\"{outdir}/dummy.txt\")\n",
        "\n",
        "fact_sales.to_csv(f\"{outdir}/FactSales.csv\", index=False)\n",
        "dim_customer.to_csv(f\"{outdir}/DimCustomer.csv\", index=False)\n",
        "dim_product.to_csv(f\"{outdir}/DimProduct.csv\", index=False)\n",
        "dim_geo.to_csv(f\"{outdir}/DimGeography.csv\", index=False)\n",
        "\n",
        "# ---------- Validations\n",
        "print(\"Fact rows:\", len(fact_sales))\n",
        "print(\"DimCustomer rows:\", len(dim_customer), \"unique CustomerID?\", dim_customer[\"CustomerID\"].is_unique)\n",
        "print(\"DimProduct rows:\", len(dim_product), \"unique ProductID?\", dim_product[\"ProductID\"].is_unique)\n",
        "print(\"DimGeography rows:\", len(dim_geo), \"unique GeoID?\", dim_geo[\"GeoID\"].is_unique)\n",
        "print(\"Any null keys in fact?\",\n",
        "      fact_sales[[\"CustomerID\",\"ProductID\",\"GeoID\"]].isna().any().to_dict())"
      ],
      "metadata": {
        "id": "gw4Q6pwaG9Tw"
      },
      "execution_count": null,
      "outputs": []
    }
  ]
}